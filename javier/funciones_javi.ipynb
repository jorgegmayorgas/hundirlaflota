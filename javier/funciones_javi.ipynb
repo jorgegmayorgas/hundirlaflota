{
 "cells": [
  {
   "cell_type": "code",
   "execution_count": null,
   "id": "6035f40c-321e-4212-95b9-05ccb4ec97e5",
   "metadata": {},
   "outputs": [],
   "source": [
    "def get_features_cat_classification(df, target_col, mi_threshold=0.0, normalize=False):\n",
    "    \n",
    "    # Comprobación de argumentos de entrada\n",
    "    if not isinstance(df, pd.DataFrame):\n",
    "        print(\"Error: 'df' debe ser un DataFrame de pandas.\")\n",
    "        return None\n",
    "    \n",
    "    if not isinstance(target_col, str):\n",
    "        print(\"Error: 'target_col' debe ser una cadena de caracteres.\")\n",
    "        return None\n",
    "    \n",
    "    if target_col not in df.columns:\n",
    "        print(\"Error: 'target_col' no está presente en el DataFrame.\")\n",
    "        return None\n",
    "    \n",
    "    if df[target_col].dtype not in ['object', 'category']:\n",
    "        print(\"Error: 'target_col' debe ser una variable categórica o numérica discreta del DataFrame.\")\n",
    "        return None\n",
    "    \n",
    "    if not isinstance(mi_threshold, float):\n",
    "        print(\"Error: 'mi_threshold' debe ser un valor float.\")\n",
    "        return None\n",
    "    \n",
    "    if not 0 <= mi_threshold <= 1 and normalize:\n",
    "        print(\"Error: 'mi_threshold' debe estar entre 0 y 1 cuando 'normalize' es True.\")\n",
    "        return None"
   ]
  },
  {
   "cell_type": "code",
   "execution_count": null,
   "id": "296b42d3-368c-4051-9adf-ab131c64a34f",
   "metadata": {},
   "outputs": [],
   "source": []
  },
  {
   "cell_type": "code",
   "execution_count": null,
   "id": "6cb4d7ed-d1b5-4938-aeef-23ffacfe057c",
   "metadata": {},
   "outputs": [],
   "source": [
    "def plot_features_cat_classification(df, target_col=\"\", columns=[], mi_threshold=0.0, normalize=False):\n",
    "    \n",
    "    if not isinstance(df, pd.DataFrame):\n",
    "        print(\"Error: 'df' debe ser un DataFrame de pandas.\")\n",
    "        return\n",
    "    \n",
    "    if not isinstance(target_col, str):\n",
    "        print(\"Error: 'target_col' debe ser una cadena de caracteres.\")\n",
    "        return\n",
    "    \n",
    "    if target_col and df[target_col].dtype not in ['object', 'category']:\n",
    "        print(\"Error: 'target_col' debe ser una variable categórica del DataFrame.\")\n",
    "        return\n",
    "    \n",
    "    if not isinstance(columns, list):\n",
    "        print(\"Error: 'columns' debe ser una lista de strings.\")\n",
    "        return\n",
    "    \n",
    "    if not 0 <= mi_threshold <= 1 and normalize:\n",
    "        print(\"Error: 'mi_threshold' debe estar entre 0 y 1 cuando 'normalize' es True.\")\n",
    "        return\n",
    "    \n",
    "    if not columns:\n",
    "        categorical_cols = df.select_dtypes(include=['object', 'category']).columns\n",
    "    else:\n",
    "        categorical_cols = columns"
   ]
  }
 ],
 "metadata": {
  "kernelspec": {
   "display_name": "Python 3 (ipykernel)",
   "language": "python",
   "name": "python3"
  },
  "language_info": {
   "codemirror_mode": {
    "name": "ipython",
    "version": 3
   },
   "file_extension": ".py",
   "mimetype": "text/x-python",
   "name": "python",
   "nbconvert_exporter": "python",
   "pygments_lexer": "ipython3",
   "version": "3.11.8"
  }
 },
 "nbformat": 4,
 "nbformat_minor": 5
}
