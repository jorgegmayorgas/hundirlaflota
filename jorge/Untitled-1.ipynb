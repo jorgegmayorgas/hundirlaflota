{
 "cells": [
  {
   "cell_type": "code",
   "execution_count": 6,
   "metadata": {},
   "outputs": [
    {
     "name": "stdout",
     "output_type": "stream",
     "text": [
      "dict_keys(['Barco1', 'Barco2', 'Barco3', 'Barco4', 'Barco5', 'Barco6', 'Barco7', 'Barco8', 'Barco9', 'Barco10'])\n"
     ]
    }
   ],
   "source": [
    "barcos = dict()\n",
    "barcos = {\n",
    "    \"Barco1\": 4,\n",
    "    \"Barco2\": 3,\n",
    "    \"Barco3\": 3,\n",
    "    \"Barco4\": 2,\n",
    "    \"Barco5\": 2,\n",
    "    \"Barco6\": 2,\n",
    "    \"Barco7\": 1,\n",
    "    \"Barco8\": 1,\n",
    "    \"Barco9\": 1,\n",
    "    \"Barco10\": 1\n",
    "        }\n",
    "print(barcos.keys()) # Prints george\n"
   ]
  }
 ],
 "metadata": {
  "kernelspec": {
   "display_name": "Python 3",
   "language": "python",
   "name": "python3"
  },
  "language_info": {
   "codemirror_mode": {
    "name": "ipython",
    "version": 3
   },
   "file_extension": ".py",
   "mimetype": "text/x-python",
   "name": "python",
   "nbconvert_exporter": "python",
   "pygments_lexer": "ipython3",
   "version": "3.10.11"
  }
 },
 "nbformat": 4,
 "nbformat_minor": 2
}
